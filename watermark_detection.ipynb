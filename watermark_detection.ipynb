{
 "cells": [
  {
   "cell_type": "markdown",
   "metadata": {},
   "source": [
    "# Watermark Detection"
   ]
  },
  {
   "cell_type": "markdown",
   "metadata": {},
   "source": [
    "\n",
    "## 1. Setup"
   ]
  },
  {
   "cell_type": "code",
   "execution_count": null,
   "metadata": {},
   "outputs": [],
   "source": [
    "from tqdm import tqdm \n",
    "\n",
    "import os\n",
    "import matplotlib.pyplot as plt\n",
    "\n",
    "import torch\n",
    "from torch.utils.data import DataLoader\n",
    "try:\n",
    "    import torch_xla.core.xla_model as xm\n",
    "except ImportError:\n",
    "    xm = None\n",
    "\n",
    "import torchvision\n",
    "import numpy as np\n",
    "\n",
    "%load_ext autoreload\n",
    "%autoreload 2\n",
    "\n",
    "os.environ['KMP_DUPLICATE_LIB_OK']='True' # To prevent the kernel from dying."
   ]
  },
  {
   "cell_type": "code",
   "execution_count": null,
   "metadata": {},
   "outputs": [],
   "source": [
    "if torch.backends.mps.is_available():\n",
    "    device = torch.device(\"mps\")\n",
    "else:\n",
    "    device = xm.xla_device()\n",
    "\n",
    "print(device)"
   ]
  },
  {
   "cell_type": "markdown",
   "metadata": {},
   "source": [
    "## 2. Visualize Data"
   ]
  },
  {
   "cell_type": "code",
   "execution_count": null,
   "metadata": {},
   "outputs": [],
   "source": [
    "from project.data.data_module import DataModule\n",
    "\n",
    "hparams = {\n",
    "    'learning_rate': 1e-05,\n",
    "    'batch_size': 64,\n",
    "    'batch_norm': False,\n",
    "    'epochs': 20,\n",
    "    'num_classes': 2,\n",
    "    'num_workers': 8,\n",
    "    'dev': device,\n",
    "    'load_method': 'memory',\n",
    "}\n",
    "\n",
    "data_module = DataModule(hparams)"
   ]
  },
  {
   "cell_type": "code",
   "execution_count": null,
   "metadata": {},
   "outputs": [],
   "source": [
    "dataiter = iter(data_module.get_valid_dataloader())\n",
    "for images, labels in dataiter:\n",
    "    break"
   ]
  },
  {
   "cell_type": "code",
   "execution_count": null,
   "metadata": {},
   "outputs": [],
   "source": [
    "idx_to_class = data_module.get_idx_to_class_dict()"
   ]
  },
  {
   "cell_type": "code",
   "execution_count": null,
   "metadata": {},
   "outputs": [],
   "source": [
    "from project.utils.images import imshow\n",
    "\n",
    "fig = plt.figure(figsize=(20,20))\n",
    "\n",
    "for idx in range(4):\n",
    "    ax = fig.add_subplot(2, 2, idx+1, xticks=[], yticks=[])\n",
    "    imshow(images[idx], ax)\n",
    "    ax.set_title(idx_to_class[int(labels[idx])], fontdict={'fontsize': 20})"
   ]
  },
  {
   "cell_type": "markdown",
   "metadata": {},
   "source": [
    "## 3. Baseline Model"
   ]
  },
  {
   "cell_type": "code",
   "execution_count": null,
   "metadata": {},
   "outputs": [],
   "source": [
    "from project.networks.naive import NaiveModel\n",
    "from project.utils.models import init_weights, number_of_parameters\n",
    "\n",
    "naive_model = NaiveModel(hparams=hparams)\n",
    "naive_model.apply(init_weights)\n",
    "\n",
    "print('# Parameters: ', number_of_parameters(naive_model))"
   ]
  }
 ],
 "metadata": {
  "kernelspec": {
   "display_name": "Python 3",
   "language": "python",
   "name": "python3"
  },
  "language_info": {
   "codemirror_mode": {
    "name": "ipython",
    "version": 3
   },
   "file_extension": ".py",
   "mimetype": "text/x-python",
   "name": "python",
   "nbconvert_exporter": "python",
   "pygments_lexer": "ipython3",
   "version": "3.11.9"
  }
 },
 "nbformat": 4,
 "nbformat_minor": 2
}
